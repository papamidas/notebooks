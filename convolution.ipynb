{
 "cells": [
  {
   "cell_type": "markdown",
   "metadata": {},
   "source": [
    "# Discrete Convolution #\n",
    "\n",
    "In diesem Notebook geht es um das Thema _Discrete Convolution_ , auf Deutsch _Diskrete Faltung_ , die eine der wichtigsten Rechenoperationen in der digitalen Signalverarbeitung ist\n",
    "\n",
    "Im Buch *Software Defined Radio for Engineers*, das man [hier](https://www.analog.com/en/education/education-library/software-defined-radio-for-engineers.html) angucken kann, findet man im Kapitel 2.6 einige Erklärungen und ein MATLAB-Skript namens *my_convolution.m, das als Vorbild für den folgenden Python-Code gedient hat.\n"
   ]
  },
  {
   "cell_type": "markdown",
   "metadata": {},
   "source": [
    "## Worum geht es bei der diskreten Faltung? ##\n",
    "\n",
    "Faltung ist eine Rechenoperation, die es auch im Bereich der kontinuierlichen Funktionen gibt.\n",
    "\n",
    "Die Faltung zweier (auch komplexwertiger) Funktionen $ f \\ast g $ ist definiert durch\n",
    "\n",
    "$ (f \\ast g)(x):=\\int f(\\tau )g(x-\\tau ){\\mathrm  {d}}\\tau $\n",
    "\n",
    "(siehe https://de.wikipedia.org/wiki/Faltung_(Mathematik))\n",
    "\n",
    "Was die Faltung anschaulich tut, ist in der Wikipedia bestens beschrieben:\n",
    "Anschaulich bedeutet die Faltung $ f \\ast g $, dass jeder Wert von $ f $ durch das mit $ g $ gewichtete Mittel der ihn umgebenden Werte ersetzt wird. Genauer wird für den Mittelwert $ (f \\ast g)(x) $ der Funktionswert $ f(\\tau ) $ mit $ g(x-\\tau ) $ gewichtet. Die resultierende „Überlagerung“ zwischen $ f $ und gespiegelten und verschobenen Versionen von $ g $ (man spricht auch von einer „Verschmierung“ von $ f $ kann z. B. verwendet werden, um einen gleitenden Durchschnitt zu bilden.\n",
    "\n",
    "Bei der diskreten Faltung\n",
    "\n",
    "$ (f*g)(n)=\\sum _{{k}}f(k)g(n-k) $\n",
    "\n",
    "ist es genauso. Die Faltung verknüpft das Eingangssignal $ f $ mit dem Ausgangssignal $ f \\ast g$ über die Gewichtung $ g $.\n",
    "Wenn das Eingangssignal im kontinuierlichen Fall ein Dirac-Puls oder im diskreten Fall ein Einheitsimpuls ist, dann ist das Resultat der Faltungsoperation die Gewichtung $ g $, die auch manchmal _Glättungskern_ oder einfach nur _Kern_ oder _kernel_ genannt wird.\n",
    "\n",
    "Im folgenden wird angenommen, dass $ f $ und $ g $ nur 1 Dimension besitzen:\n",
    "\n",
    "Wenn der _Kern_ aus M diskreten Werten besteht, dann muss nach obiger Gleichung der Index $ k $ in der Summe von $ 0 $ bis $ k $ laufen. Für jeden Abtastwert müssen also $ M $ Multiplikationen und $ M $ Additionen durchgeführt werden (diese Operationen werden in der digitalen Signalverarbeitung oft als _MAC_ -Operationen bezeichnet, für _Multiply and Accumulate_.\n",
    "\n",
    "Wie man aus obiger Gleichung auch erkennen, tragen zu jedem Ausgangs-Abtastwert $ (f*g)(n) $ mit dem Index $ n $ alle Abtastwerte $ f(k) $ bei, bei denen $ g(n-k) $ nicht Null ist.\n",
    "In jedem Ausgangs-Abtastwert steckt also gewissermaßen die Information von vielen Eingangs-Abtastwerten.\n",
    "\n",
    "In den folgenden Beispielen wird die diskrete Faltung verwendet, um ein Eingangssignal einer Tiefpassfilterung und einer Hochpassfilterung zu unterziehen:\n",
    "\n",
    "## Beispiel: Tiefpassfilter ##\n",
    "\n",
    "Bevor es richtig losgeht, wird zuerst die matplotlib-Bibliothek und die numpy-Bibliothek importiert.\n",
    "Außerdem wird eine einfache plot-Funktion für die folgenden Diagramme definiert, damit man sich im weiteren Verlauf ein paar Programmzeilen sparen kann:"
   ]
  },
  {
   "cell_type": "code",
   "execution_count": 37,
   "metadata": {},
   "outputs": [],
   "source": [
    "import matplotlib.pyplot as plt\n",
    "import numpy as np\n",
    "\n",
    "def sample_plot(data, x1, x2, titlestr):\n",
    "    plt.plot(data,'o')\n",
    "    plt.xlabel('Sample number')\n",
    "    plt.ylabel('Amplitude')\n",
    "    plt.xlim(x1, x2)\n",
    "    plt.grid(b=True)\n",
    "    plt.title(titlestr)"
   ]
  },
  {
   "cell_type": "markdown",
   "metadata": {},
   "source": [
    "Als Beispiel-Eingangsdaten, die tiefpassgefiltert werden sollen, werden 3 Sinusschwingungen verwendet (diese Sinusschwingungen repräsentieren eine _hohe_ Frequenz) und einer langsamen Rampenfunktion überlagert.\n",
    "Die Rampenfunktion besteht vorwiegend aus niederfrequenten Signalanteilen."
   ]
  },
  {
   "cell_type": "code",
   "execution_count": 38,
   "metadata": {},
   "outputs": [
    {
     "data": {
      "image/png": "[encoded data removed]",
      "text/plain": [
       "<Figure size 432x288 with 1 Axes>"
      ]
     },
     "metadata": {
      "needs_background": "light"
     },
     "output_type": "display_data"
    }
   ],
   "source": [
    "samples1_len = 80\n",
    "samples1_cnt = np.arange(0, samples1_len) #excluding stop\n",
    "samples1_sin = 1.3*np.sin(samples1_cnt/samples1_len*2*4*np.pi)\n",
    "samples1 = np.zeros(samples1_len)\n",
    "samples1[8:69] = -samples1_sin[0:61] + 3.0/61*samples1_cnt[0:61]\n",
    "m1 = samples1[68]/(68-72)\n",
    "b1 = -m1 * 72\n",
    "samples1[68:72] = m1 * samples1_cnt[68:72] + b1\n",
    "\n",
    "plt.figure(num=1, figsize=(6, 4))\n",
    "sample_plot(samples1, 0, samples1_len, '')"
   ]
  },
  {
   "cell_type": "markdown",
   "metadata": {},
   "source": [
    "Das Tiefpassfilter, also der _kernel_ , besteht in diesem Beispiel aus einem Viertel einer Sinusschwingung "
   ]
  },
  {
   "cell_type": "code",
   "execution_count": 39,
   "metadata": {},
   "outputs": [
    {
     "data": {
      "image/png": "[encoded data removed]",
      "text/plain": [
       "<Figure size 144x288 with 1 Axes>"
      ]
     },
     "metadata": {
      "needs_background": "light"
     },
     "output_type": "display_data"
    }
   ],
   "source": [
    "# low-pass filter:\n",
    "impulse1_len = 30\n",
    "impulse1_phase = np.arange(0, np.pi*(impulse1_len+1)/impulse1_len,\n",
    "                           np.pi/impulse1_len)\n",
    "impulse1 = 0.055*np.sin(impulse1_phase)\n",
    "\n",
    "plt.figure(num=2, figsize=(2, 4))\n",
    "sample_plot(impulse1, 0, impulse1_len, 'Low-pass filter')"
   ]
  },
  {
   "cell_type": "markdown",
   "metadata": {},
   "source": [
    "Die diskrete Faltungsoperation wird durch den folgenden Code-Abschnitt umgesetzt:"
   ]
  },
  {
   "cell_type": "code",
   "execution_count": 40,
   "metadata": {},
   "outputs": [],
   "source": [
    "# Receive two vectors and return a vector resultant of\n",
    "# convolution operation\n",
    "def simple_conv(f,g):\n",
    "    # Transform the vectors f and g in new vectors with the same length\n",
    "    F = np.zeros( len(f) + len(g))\n",
    "    G = np.zeros( len(f) + len(g))\n",
    "    F[0:len(f)] = f\n",
    "    G[0:len(g)] = g\n",
    "    # Create a new vector C\n",
    "    C = np.zeros(len(g)+len(f)-1)\n",
    "    # FOR Loop to put the result of convolution between F and G vectors\n",
    "    # in a new vector C. According to the convolution operation\n",
    "    # characteristics, the length of a resultant vector of convolution\n",
    "    # operation between two vector is the sum of vectors length minus 1\n",
    "    for i in range(0, len(g)+len(f)-1): # range does not include last element\n",
    "        # FOR Loop to walk through the vector F ang G\n",
    "        for j in range(0, len(f)):\n",
    "            if (i-j+1>0):\n",
    "                C[i] = C[i] + F[j] * G[i-j+1]\n",
    "    return C"
   ]
  },
  {
   "cell_type": "markdown",
   "metadata": {},
   "source": [
    "Mit den folgenden Code-Zeilen werden die Eingangsdaten mit dem _kernel_ gefaltet und dargestellt:"
   ]
  },
  {
   "cell_type": "code",
   "execution_count": 41,
   "metadata": {},
   "outputs": [
    {
     "data": {
      "image/png": "[encoded data removed]",
      "text/plain": [
       "<Figure size 576x288 with 1 Axes>"
      ]
     },
     "metadata": {
      "needs_background": "light"
     },
     "output_type": "display_data"
    }
   ],
   "source": [
    "filtered1 = simple_conv(samples1, impulse1)\n",
    "\n",
    "plt.figure(num=3, figsize=(8, 4))\n",
    "plt.xticks(np.arange(0, 120, step=10))\n",
    "plt.grid(b=True, which=\"minor\")\n",
    "plt.ylim(-2, 4)\n",
    "sample_plot(filtered1, 0, len(filtered1), '')"
   ]
  },
  {
   "cell_type": "markdown",
   "metadata": {},
   "source": [
    "Wie man an dem obigen Plot gut sehen kann, ist das Ausgangssignal eine ziemlich glatt verlaufende Kurve.\n",
    "Die Faltung mit dem Tiefpass-Kern hat die niederfrequenten Anteile der Rampe durchgelassen, aber die schnelleren Sinusschwingungen herausgefiltert.\n",
    "\n",
    "## Beispiel: Hochpassfilter ##\n",
    "\n",
    "Der Hochpassfilter-Kern wird durch die folgenden Programmzeilen erzeugt und dargestellt:"
   ]
  },
  {
   "cell_type": "code",
   "execution_count": 42,
   "metadata": {},
   "outputs": [
    {
     "data": {
      "image/png": "[encoded data removed]",
      "text/plain": [
       "<Figure size 144x288 with 1 Axes>"
      ]
     },
     "metadata": {
      "needs_background": "light"
     },
     "output_type": "display_data"
    }
   ],
   "source": [
    "impulse2 = -1 * impulse1\n",
    "midindx = int(len(impulse2)/2)\n",
    "impulse2[midindx] = 0\n",
    "impulse2[midindx] = -np.sum(impulse2)\n",
    "\n",
    "plt.figure(num=5, figsize=(2, 4))\n",
    "sample_plot(impulse2, 0, impulse1_len, 'High-pass filter')"
   ]
  },
  {
   "cell_type": "markdown",
   "metadata": {},
   "source": [
    "Die folgenden Zeilen führen wieder die Faltung und die Darstellung des Ergebnisses durch:"
   ]
  },
  {
   "cell_type": "code",
   "execution_count": 43,
   "metadata": {},
   "outputs": [
    {
     "data": {
      "image/png": "[encoded data removed]",
      "text/plain": [
       "<Figure size 576x288 with 1 Axes>"
      ]
     },
     "metadata": {
      "needs_background": "light"
     },
     "output_type": "display_data"
    }
   ],
   "source": [
    "filtered2 = simple_conv(samples1, impulse2)\n",
    "\n",
    "plt.figure(num=6, figsize=(8, 4))\n",
    "plt.xticks(np.arange(0, 120, step=10))\n",
    "plt.ylim(-2, 4)\n",
    "sample_plot(filtered2, 0, len(filtered2), '')"
   ]
  },
  {
   "cell_type": "markdown",
   "metadata": {},
   "source": [
    "Wie man oben sehen kann, werden durch die Faltung mit dem Hochpass-Kern nur noch die schnellen Sinusschwingungen durchgelassen."
   ]
  }
 ],
 "metadata": {
  "kernelspec": {
   "display_name": "Python 3",
   "language": "python",
   "name": "python3"
  },
  "language_info": {
   "codemirror_mode": {
    "name": "ipython",
    "version": 3
   },
   "file_extension": ".py",
   "mimetype": "text/x-python",
   "name": "python",
   "nbconvert_exporter": "python",
   "pygments_lexer": "ipython3",
   "version": "3.7.4"
  }
 },
 "nbformat": 4,
 "nbformat_minor": 2
}
