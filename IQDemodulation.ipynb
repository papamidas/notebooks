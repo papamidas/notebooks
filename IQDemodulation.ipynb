{
 "cells": [
  {
   "cell_type": "markdown",
   "metadata": {},
   "source": [
    "# IQ-Modulation und -Demodulation\n",
    "\n",
    "Ein großer Vorteil einer digitalen IQ-Mischstufe ist die hohe Präzision beim digitalen Mischen, die mit analogen IQ-Mischern kaum erreicht werden kann.\n",
    "In einem Vortrag über den Mercury SDR-Receiver gibt Phil Harman VK6PH einige Werte für die Amplituden- und Phasengenauigkeit an (in diesem [Video](https://youtu.be/0LJpD9T1KgE) ab 00:22), die für eine bestimmte Spiegelfrequenzunterdrückung notwendig sind:\n",
    "\n",
    "\n",
    "| Rejection | Phase(deg) | Amplitude (dB) |\n",
    "|-----------|------------|----------------|\n",
    "|   40 dB   | 1.0        |     0.1        |\n",
    "|   60 dB   | 0.1        |     0.01       |\n",
    "|   80 dB   | 0.01       |     0.001      |\n",
    "|  100 dB   | 0.001      |     0.0001     |\n",
    "\n",
    "\n",
    "Wie man sich leicht vorstellen kann, sind solche Amplituden- und Phasengenauigkeiten mit analogen Schaltungen, die mehrere Amateurfunkbänder abdecken sollen und Temperaturschwankungen, Vibrationen und Bauteilealterung ausgesetzt sind, ziemlich unerreichbar.\n",
    "\n",
    "## So funktioniert ein IQ-Empfangsmischer ##\n",
    "\n",
    "An der Antenne kommt ein Signal mit der Frequenz $ \\omega_{1} $ an.\n",
    "Dieses Signal soll den zeitlichen Verlauf\n",
    "\n",
    "$ U_{Ant}(t) = \\cos ( \\omega_{1} t ) $\n",
    "\n",
    "haben und am Eingang des IQ-Mischers anliegen.\n",
    "Es ist hierbei egal, ob das Signal bereits digitalisiert wurde oder ob es sich um ein Analogsignal handelt, die Mathematik ist die gleiche.\n",
    "Die Amplitude ist auch erst mal egal; wir setzen die Amplitude auf 1, dann müssen wir weniger schreiben.\n",
    "\n",
    "Der IQ-Mischer besteht aus zwei Multiplizierern.\n",
    "\n",
    "Diese beiden Multiplizierer sind an einen lokalen Oszillator angeschlossen, der mit der Kreisfrequenz $ \\omega_{0} $ schwingt und der 2 Ausgänge hat: Der eine Multiplizierer, nennen wir ihn den I-Multiplizierer, ist am 0°-Ausgang des lokalen Oszillators angeschlossen und der andere Multiplizierer, der Q-Multiplizierer, am 90°-Ausgang.\n",
    "\n",
    "Die Amplituden sollen auch erst mal wieder keine Rolle spielen und werden der Einfachheit halber auf 1 gesetzt.\n",
    "\n",
    "Das LO-Signal am I-Multiplizierer soll also \n",
    "\n",
    "$ U_{LO,I}(t) = \\cos ( \\omega_{0} t ) $\n",
    "\n",
    "sein und das Signal am Q-Multiplizierer soll sein\n",
    "\n",
    "$ U_{LO,Q}(t) = \\cos (\\omega_{0} t + 90° ) = - \\sin ( \\omega_{0} t ) $\n",
    "\n",
    "\n",
    "Am Ausgang der Multiplizierer erscheinen dann die Produkte I und Q:\n",
    "\n",
    "$ I = \\cos ( \\omega_{1} t ) \\cos ( \\omega_{0} t ) $\n",
    "\n",
    "$ Q = - \\cos ( \\omega_{1} t ) \\sin ( \\omega_{0} t ) $\n",
    "\n",
    "Jetzt wenden wir zwei Theoreme für Produkte von Winkelfunktionen an, nämlich \n",
    "\n",
    "$ \\cos x \\; \\cos y = \\frac{1}{2}\\Big(\\cos (x-y) + \\cos (x+y)\\Big) $  \n",
    "\n",
    "und\n",
    "\n",
    "$ \\sin x \\; \\cos y = \\frac{1}{2}\\Big(\\sin (x-y) + \\sin (x+y)\\Big) $\n",
    "\n",
    "und erhalten\n",
    "\n",
    "$ I = \\frac{1}{2} \\cos ( \\omega_{1} + \\omega_{0} )t + \\frac{1}{2} \\cos ( \\omega_{1} - \\omega_{0} )t $\n",
    "\n",
    "$ Q = - \\frac{1}{2} \\sin ( \\omega_{1} + \\omega_{0} )t + \\frac{1}{2} \\sin ( \\omega_{1} - \\omega_{0} )t $\n",
    "\n",
    "\n",
    "## So funktioniert SSB-Demodulation mit IQ-Signalen ##\n",
    "\n",
    "Um aus dem IQ-Signal, das von einem SSB-modulierten Sender stammt, das ursprüngliche Modulationssignal zu demodulieren, muss man das Q-Signal um 90° in der Phase verschieben.\n",
    "\n",
    "Ein breitbandige Phasenverschiebung (mit der Bandbreite des Modulationssignals) ist mit analogen Schaltungstechniken aufwendig, aber möglich, z.B. mit audio phasing networks nach [W2WAM](https://en.wikipedia.org/wiki/Robert_B._Dome). In diesem Fall ist es vorteilhafter, das I-Signal um -45° zu schieben und das Q-Signal um +45°; wichtig ist nur die Phasendifferenz von Q nach I; die muss 90° sein.\n",
    "In der digitalen Signalverarbeitung bewirkt man die Phasenverschiebung mit einem sog. Hilbert-Tranformator, der als FIR-Filter mit bestimmten [Koeffizienten](https://de.wikipedia.org/wiki/Hilbert-Transformation#Berechnung_mit_FIR-Filter) realisiert werden kann.\n",
    "Auch im digitalen Fall muss man aufpassen: Der Hilbert-Transformator für das Q-Signal hat eine bestimmte Verzögerungszeit; auch das I-Signal muss um diese gleiche Zeit verzögert werden, was man ebenfalls mit einem FIR-Filter erreichen kann.  \n",
    "\n",
    "Rechnerisch haben wir es dagegen bequem: Wir müssen nur 90° zum Q-Signal addieren und erhalten das Signal\n",
    "\n",
    "$ Q' = - \\frac{1}{2} \\sin ( \\omega_{1} t + \\omega_{0} t + 90°) + \\frac{1}{2} \\sin ( \\omega_{1} t - \\omega_{0} t +90°) $\n",
    "\n",
    "$ Q' = - \\frac{1}{2} \\cos ( \\omega_{1} + \\omega_{0} )t + \\frac{1}{2} \\cos ( \\omega_{1} - \\omega_{0} )t $\n",
    "\n",
    "\n",
    "### LSB ###\n",
    "\n",
    "Um das untere Seitenband zu erhalten, müssen wir nur noch das $ I $ - und das $ Q' $-Signal addieren:\n",
    "\n",
    "$ LSB = I + Q' = \\cos ( \\omega_{1} - \\omega_{0} )t $\n",
    "\n",
    "### USB ###\n",
    "\n",
    "Für das obere Seitenband müssen wir das $ Q' $ - Signal vom $ I $-Signal abziehen:\n",
    "\n",
    "$ USB = I - Q' = \\cos ( \\omega_{1} + \\omega_{0} )t $\n",
    "\n",
    "## SSB-Demodulation bei Phasen- und Amplitudenfehlern ##\n",
    "\n",
    "Bisher war alles perfekt: Die beiden Mischer funktionierten als perfekte Multiplizierer und die beiden Ausgänge des Lokaloszillators waren exakt um 90° phasenverschoben zueinander und lieferten exakt gleiche Amplituden.\n",
    "\n",
    "Weder Analogmultiplizierer noch analoge Quadraturoszillatoren funktionieren aber so perfekt.\n",
    "\n",
    "Um einen Phasenfehler zu simulieren, sollen die beiden Ausgänge des Oszillators jetzt nicht mehr exakt eine\n",
    "Phasendifferenz von $ 90° $ besitzen, sondern eine Phasendifferenz von $ 90° + \\Delta \\phi $.\n",
    "\n",
    "Um einen Amplitudenfehler zu simulieren, soll das LO-Signal am Q-Mischer eine etwas andere Amplitude haben als 1.\n",
    "\n",
    "Insgesamt soll also das Signal, das am Q-Mischer anliegt, um $ 90 ° $ und ein bisschen was dazu ($ \\Delta \\phi$) phasenverschoben sein und eine Amplitude $ a $ besitzen, wobei $ a \\approx 1 $ sein soll:\n",
    "\n",
    "$ U_{LO,Q}(t) = a \\cos( \\omega_{0} t + 90° + \\Delta \\phi ) = -a \\sin( \\omega_{0} t + \\Delta \\phi ) $\n",
    "\n",
    "wobei hier  $ \\cos( x + 90° ) = - \\sin x $ zur Anwendung kam.\n",
    "\n",
    "Mit dem folgenden Code kann man die Signale des lokalen Oszillators plotten:\n"
   ]
  },
  {
   "cell_type": "code",
   "execution_count": 1,
   "metadata": {},
   "outputs": [
    {
     "data": {
      "text/plain": [
       "(-1.1, 1.1)"
      ]
     },
     "execution_count": 1,
     "metadata": {},
     "output_type": "execute_result"
    }
   ],
   "source": [
    "import numpy as np\n",
    "import matplotlib.pyplot as plt\n",
    "\n",
    "deltat = 1e-9 # Sample period in seconds\n",
    "fs = 1/deltat\n",
    "t = np.arange(0, 1e-6-deltat, deltat)\n",
    "lo_frequency=6070000\n",
    "\n",
    "u_lo_i = np.cos(2*np.pi*lo_frequency*t)\n",
    "fig, ax = plt.subplots()\n",
    "\n",
    "a = 0.9\n",
    "deltaphi = 0\n",
    "\n",
    "u_lo_q = - a * np.sin(2*np.pi*lo_frequency*t + deltaphi)\n",
    "\n",
    "ax.plot(t*10e6,u_lo_i, t*10e6, u_lo_q)\n",
    "ax.set_xlabel('time (us)')\n",
    "ax.set_ylabel('Amplitude')\n",
    "ax.set_ylim((-1.1, 1.1))"
   ]
  },
  {
   "cell_type": "markdown",
   "metadata": {},
   "source": [
    "Als Nächstes werden ein paar Helper-Funktionen definiert, die wir gleich noch brauchen werden:"
   ]
  },
  {
   "cell_type": "code",
   "execution_count": 2,
   "metadata": {},
   "outputs": [],
   "source": [
    "def fftwin(s):\n",
    "    return (np.blackman(len(s))) # other windows can be tried here\n",
    "\n",
    "def calcdBFFT(s):\n",
    "    s_fft = np.fft.fft(s * fftwin(s))\n",
    "    s_dB = 20 * np.log10(np.abs(s_fft)+1e-200)\n",
    "    return s_dB\n",
    "\n",
    "def plotfft(ax, s, xlim1, xlim2,titlestr, xticklist, mutelist=[]):\n",
    "    s_dB = calcdBFFT(s)\n",
    "    freqs = np.fft.fftfreq(len(s), d=deltat)\n",
    "    l, = ax.plot(freqs/1000, s_dB)\n",
    "    ax.set_xlim(xlim1/1000, xlim2/1000)\n",
    "    ax.set_ylim(-100,100)\n",
    "    ax.set_xlabel('kHz')\n",
    "    ax.xaxis.set_label_coords(1.02, -0.06)\n",
    "    ax.set_xticks(xticklist)\n",
    "    ax.set_title(titlestr)\n",
    "    ax.grid(True)\n",
    "    return l"
   ]
  },
  {
   "cell_type": "markdown",
   "metadata": {},
   "source": [
    "Im nächsten Code-Schnipsel werden 2 Signale erzeugt: Ein USB-Signal und ein LSB-Signal.\n",
    "Das USB-Signal besteht aus einem Ton bei 300 Hz mit der Amplitude 0.1, einem Ton bei 1650 Hz mit der Amplitude 0.8 und einem Ton bei 3 KHz mit der Amplitude 1.\n",
    "Das LSB-Signal besteht aus einem Ton bei 400 Hz mit der Amplitude 0.2, einem Ton bei 1500 Hz mit der Amplitude 1.6 und einem Ton bei 2.5 KHz mit der Amplitude 1.8.\n",
    "Die Modulationssignale haben unterschiedliche Frequenzen und Amplituden, damit man sie später besser unterscheiden kann.\n",
    "Die Modukationssignale werden auf einen Träger von 80 kHz aufmoduliert:"
   ]
  },
  {
   "cell_type": "code",
   "execution_count": 3,
   "metadata": {},
   "outputs": [],
   "source": [
    "usb = [[300,0.1],[1650,0.8],[3000,1]]   # USB frequencies and amplitudes\n",
    "lsb = [[400,0.2],[1500,1.6],[2500,1.8]] # LSB frequencies and amplitudes\n",
    "fc = 80000                              # Tx frequency, carrier frequency\n",
    "c = 1                                   # carrier amplitude\n",
    "fs = 2e6                                # sampling frequency\n",
    "maxtim = 0.1                            # duration of the sampling block\n",
    "deltat = 1/fs\n",
    "t = np.arange(0, maxtim-deltat, deltat) # array of sampling times\n",
    "\n",
    "ssb = np.zeros(len(t))                  # generating USB and LSB signals\n",
    "for [freq, amp] in usb:\n",
    "    ssb += amp*np.cos(2*np.pi*(freq+fc)*t)\n",
    "for [freq, amp] in lsb:\n",
    "    ssb += amp*np.cos(2*np.pi*(freq-fc)*t)"
   ]
  },
  {
   "cell_type": "markdown",
   "metadata": {},
   "source": [
    "Mit den folgenden Code-Zeilen wird das Spektrum am Empfängereingang geplottet:"
   ]
  },
  {
   "cell_type": "code",
   "execution_count": 4,
   "metadata": {},
   "outputs": [
    {
     "data": {
      "text/plain": [
       "<matplotlib.lines.Line2D at 0x20b1acc6348>"
      ]
     },
     "execution_count": 4,
     "metadata": {},
     "output_type": "execute_result"
    },
    {
     "data": {
      "image/png": "[encoded data removed]",
      "text/plain": [
       "<Figure size 1296x720 with 1 Axes>"
      ]
     },
     "metadata": {
      "needs_background": "light"
     },
     "output_type": "display_data"
    }
   ],
   "source": [
    "plt.rcParams['figure.figsize'] = [18, 10]\n",
    "fig, ax = plt.subplots()\n",
    "#plotfft(ax,ssb,-1.5*fc,1.5*fc,\"receiver input signal\",[-80,0,80]) # uncomment line and comment next line for neg. frequencies\n",
    "plotfft(ax,ssb,0,1.5*fc,\"receiver input signal\",[0,80])"
   ]
  },
  {
   "cell_type": "markdown",
   "metadata": {},
   "source": [
    "Das folgende Kommando ermöglicht die Ausgabe einer interaktiven Grafik im eigenen Fenster:"
   ]
  },
  {
   "cell_type": "code",
   "execution_count": 5,
   "metadata": {},
   "outputs": [
    {
     "name": "stdout",
     "output_type": "stream",
     "text": [
      "Using matplotlib backend: Qt5Agg\n"
     ]
    }
   ],
   "source": [
    "%matplotlib auto"
   ]
  },
  {
   "cell_type": "markdown",
   "metadata": {},
   "source": [
    "Mit den folgenden Code-Zeilen wird eine interaktive Grafik erzeugt.\n",
    "Mit einem Slider kann man die Amplitude und die Phase des  $ Q' $-Signals verändern und beobachten, wie die Spiegelfrequenzunterdrückung mit zunehmender Abweichung von den Idealwerten sehr rasch schlechter wird.\n",
    "Ein digitaler Mischer in Verbindung mit einem NCO (Numerically Controlled Oscillator) als Quadraturoszillator und einem Hilbert-Transformator hat diese Probleme nicht!"
   ]
  },
  {
   "cell_type": "code",
   "execution_count": 6,
   "metadata": {},
   "outputs": [],
   "source": [
    "I = np.zeros(len(t))                    # calculating In-Phase Output\n",
    "for [freq, amp] in usb:\n",
    "    I += 0.5*amp*np.cos(2*np.pi*(freq+fc+fc)*t) + \\\n",
    "    0.5*amp*np.cos(2*np.pi*(freq+fc-fc)*t)\n",
    "for [freq, amp] in lsb:\n",
    "    I += 0.5*amp*np.cos(2*np.pi*(freq+fc+fc)*t) + \\\n",
    "    0.5*amp*np.cos(2*np.pi*(freq+fc-fc)*t)\n",
    "    \n",
    "from matplotlib.widgets import Slider, Button\n",
    "\n",
    "fig, (ax1, ax2) = plt.subplots(2, 1)\n",
    "fig.subplots_adjust(hspace=0.5, left=0.1, bottom=0.25)\n",
    "\n",
    "axcolor = 'lightgoldenrodyellow'\n",
    "axphs = plt.axes([0.1, 0.1, 0.75, 0.03], facecolor=axcolor)\n",
    "axamp = plt.axes([0.1, 0.15, 0.75, 0.03], facecolor=axcolor)\n",
    "\n",
    "sphs = Slider(axphs, 'phase err',-1.0,1.0,\n",
    "              valinit=0,valfmt='%1.4f', valstep=0.001)\n",
    "samp = Slider(axamp, 'amplitude err',0.99,1.01,\n",
    "              valinit=1.0,valfmt='%1.4f',valstep=0.0001)\n",
    "\n",
    "def calcQbar(ampQ, deltaPhiQ):          # calculating Quadrature Output\n",
    "    Qbar = np.zeros(len(t))\n",
    "    for [freq, amp] in usb:\n",
    "        Qbar += ampQ*(-0.5*amp*np.cos(2*np.pi*(freq+fc+fc)*t+deltaPhiQ) - \\\n",
    "                0.5*amp*np.cos(2*np.pi*(freq+fc-fc)*t-deltaPhiQ))\n",
    "    for [freq, amp] in lsb:\n",
    "        Qbar += ampQ*(-0.5*amp*np.cos(2*np.pi*(freq+fc+fc)*t+deltaPhiQ) + \\\n",
    "                0.5*amp*np.cos(2*np.pi*(freq+fc-fc)*t-deltaPhiQ))\n",
    "    return Qbar\n",
    "\n",
    "ampQ = 1.0                              \n",
    "deltaPhiQ = 0\n",
    "Qbar = calcQbar(ampQ, deltaPhiQ)\n",
    "\n",
    "l1=plotfft(ax1,I+Qbar,-5000,5000,\n",
    "           \"USB:I+Q(-90°) demodulated baseband signal\",[-4,-2,0,2,4])  # USB\n",
    "l2=plotfft(ax2,I-Qbar,-5000,5000,\n",
    "           \"LSB: I-Q(-90°) demodulated baseband signal\",[-4,-2,0,2,4]) # LSB\n",
    "\n",
    "def update(val):\n",
    "    ampQ = samp.val\n",
    "    deltaPhiQ = sphs.val / 180.0 * np.pi\n",
    "    Qbar = calcQbar(ampQ, deltaPhiQ)\n",
    "    l1.set_ydata(calcdBFFT(I+Qbar)) # re-claculate USB spectrum\n",
    "    l2.set_ydata(calcdBFFT(I-Qbar)) # re-calculate LSB spectrum\n",
    "    fig.canvas.draw_idle()\n",
    "\n",
    "sphs.on_changed(update)\n",
    "samp.on_changed(update)\n",
    "\n",
    "resetax = plt.axes([0.8, 0.025, 0.1, 0.04])\n",
    "button = Button(resetax, 'Reset', color=axcolor, hovercolor='0.975')\n",
    "\n",
    "def reset(event):\n",
    "    sphs.reset()\n",
    "    samp.reset()\n",
    "button.on_clicked(reset)\n",
    "\n",
    "plt.show()"
   ]
  }
 ],
 "metadata": {
  "kernelspec": {
   "display_name": "Python 3",
   "language": "python",
   "name": "python3"
  },
  "language_info": {
   "codemirror_mode": {
    "name": "ipython",
    "version": 3
   },
   "file_extension": ".py",
   "mimetype": "text/x-python",
   "name": "python",
   "nbconvert_exporter": "python",
   "pygments_lexer": "ipython3",
   "version": "3.7.4"
  }
 },
 "nbformat": 4,
 "nbformat_minor": 2
}
