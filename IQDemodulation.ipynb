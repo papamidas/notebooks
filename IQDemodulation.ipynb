{
 "cells": [
  {
   "cell_type": "markdown",
   "metadata": {},
   "source": [
    "# Spurious-Free Dynamic Range (SFDR), Teil 1\n",
    "\n",
    "Bei der digitalen Signalverarbeitung hat man es ja nicht nur mit diskreten **Abtastzeiten** zu tun, sondern auch mit diskreten **Amplitudenschritten**, und das führt zu spektralen Störungen. Diese spektralen Störungen (\"**Spurs\"**) sind immer da, auch wenn die Zeit- und Amplitudenschritte eines ADCs oder DACs alle perfekt sind."
   ]
  },
  {
   "cell_type": "code",
   "execution_count": null,
   "metadata": {},
   "outputs": [],
   "source": []
  }
 ],
 "metadata": {
  "kernelspec": {
   "display_name": "Python 3",
   "language": "python",
   "name": "python3"
  },
  "language_info": {
   "codemirror_mode": {
    "name": "ipython",
    "version": 3
   },
   "file_extension": ".py",
   "mimetype": "text/x-python",
   "name": "python",
   "nbconvert_exporter": "python",
   "pygments_lexer": "ipython3",
   "version": "3.7.4"
  }
 },
 "nbformat": 4,
 "nbformat_minor": 2
}
